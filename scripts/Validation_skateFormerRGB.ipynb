{
 "cells": [
  {
   "cell_type": "code",
   "execution_count": 1,
   "id": "866fdaf2",
   "metadata": {},
   "outputs": [],
   "source": [
    "T = 100\n",
    "window_size = 64\n",
    "thres = 64\n",
    "cropDir = '/home/k100/Code/motionclassifiation_trainData_process/RGB_lastFrame'\n",
    "dataPath = './testdata/NTU120_CV_RGB_2024_11_13_10_22.npz'\n",
    "device = 'cuda:0'"
   ]
  },
  {
   "cell_type": "code",
   "execution_count": 2,
   "id": "c83394f7",
   "metadata": {},
   "outputs": [],
   "source": [
    "import torch\n",
    "import sys\n",
    "import shutil\n",
    "import inspect\n",
    "from collections import OrderedDict\n",
    "import yaml\n",
    "import time\n",
    "from feeders import tools\n",
    "import cv2\n",
    "import numpy as np\n",
    "from tqdm import tqdm\n",
    "import matplotlib.pyplot as plt\n"
   ]
  },
  {
   "cell_type": "code",
   "execution_count": 3,
   "id": "281d5f2c",
   "metadata": {},
   "outputs": [],
   "source": [
    "data = np.load(dataPath)\n",
    "x_test = data['x_test']\n",
    "y_test = data['y_test']\n",
    "crops = data['x_test_crop'] "
   ]
  },
  {
   "cell_type": "code",
   "execution_count": 4,
   "id": "0ac01a02",
   "metadata": {},
   "outputs": [],
   "source": [
    "model_args = {'num_classes': 120, 'num_people': 2, 'num_points': 17,\n",
    "              'kernel_size': 7, 'num_heads': 32, 'attn_drop': 0.5,\n",
    "              'head_drop': 0.0, 'rel': True, 'drop_path': 0.2, \n",
    "              'type_1_size': [8, 2], 'type_2_size': [8, 17],\n",
    "              'type_3_size': [8, 2], 'type_4_size': [8, 17],\n",
    "              'mlp_ratio': 4.0, 'index_t': True}\n",
    "\n",
    "work_dir = './work_dir/ntu/cs/SkateFormerRGB_j/'\n",
    "# ckptPath = './work_dir/ntu/cs/SkateFormerRGB_j/runs-last_model_Epoch47_acc79.pt'\n",
    "ckptPath = './work_dir/ntu/cs/SkateFormerRGB_j/runs-last_model.pt'\n",
    "\n",
    "modelType = 'model.SkateFormer.SkateFormerRGB_'"
   ]
  },
  {
   "cell_type": "code",
   "execution_count": 5,
   "id": "3b171040",
   "metadata": {},
   "outputs": [],
   "source": [
    "def cropPreprocess(crop):\n",
    "    cropH,cropW,_ = crop.shape\n",
    "    assert cropH==256 and cropW==128\n",
    "    crop = cv2.cvtColor(crop, cv2.COLOR_BGR2RGB).astype(float)/255\n",
    "    return torch.from_numpy(np.transpose(crop, (2, 0, 1)))#.unsqueeze(0)\n",
    "\n",
    "def import_class(import_str):\n",
    "    mod_str, _sep, class_str = import_str.rpartition('.')\n",
    "    __import__(mod_str)\n",
    "    try:\n",
    "        return getattr(sys.modules[mod_str], class_str)\n",
    "    except AttributeError:\n",
    "        raise ImportError('Class %s cannot be found (%s)' % (class_str, traceback.format_exception(*sys.exc_info())))\n",
    "\n",
    "def load_model(work_dir,ckptPath,device,modelType='model.SkateFormer.SkateFormer_'):\n",
    "    print('[modelType] : ', modelType)\n",
    "    Model = import_class(modelType)\n",
    "    shutil.copy2(inspect.getfile(shutil), work_dir)\n",
    "    model = Model(**model_args)\n",
    "    weights = torch.load(ckptPath)\n",
    "    weights = OrderedDict([[k.split('module.')[-1], v.to(device)] for k, v in weights.items()])\n",
    "    keys = list(weights.keys())\n",
    "    model.load_state_dict(weights)\n",
    "    model.to(device)\n",
    "    return model"
   ]
  },
  {
   "cell_type": "code",
   "execution_count": 28,
   "id": "d2334cfc",
   "metadata": {},
   "outputs": [
    {
     "name": "stdout",
     "output_type": "stream",
     "text": [
      "[modelType] :  model.SkateFormer.SkateFormerRGB_\n"
     ]
    }
   ],
   "source": [
    "model = load_model(work_dir,ckptPath,device,modelType=modelType)"
   ]
  },
  {
   "cell_type": "code",
   "execution_count": 29,
   "id": "f7cd12c9",
   "metadata": {},
   "outputs": [
    {
     "name": "stdout",
     "output_type": "stream",
     "text": [
      "Total parameters: 3749551\n"
     ]
    }
   ],
   "source": [
    "total_params = sum(p.numel() for p in model.parameters())\n",
    "print(f\"Total parameters: {total_params}\")"
   ]
  },
  {
   "cell_type": "code",
   "execution_count": 33,
   "id": "82e9ec69",
   "metadata": {},
   "outputs": [
    {
     "name": "stdout",
     "output_type": "stream",
     "text": [
      "649\n"
     ]
    }
   ],
   "source": [
    "BatchDatanum = 32\n",
    "Epochs = int(np.ceil(x_test.shape[0]/BatchDatanum))\n",
    "print(Epochs)\n",
    "# Epochs = 100"
   ]
  },
  {
   "cell_type": "code",
   "execution_count": 34,
   "id": "0e782a98",
   "metadata": {},
   "outputs": [
    {
     "name": "stderr",
     "output_type": "stream",
     "text": [
      "100%|████████████████████████████████████████████████████████████████████████████████████████████▊| 648/649 [06:20<00:00,  1.70it/s]\n"
     ]
    },
    {
     "ename": "IndexError",
     "evalue": "index 20742 is out of bounds for axis 0 with size 20742",
     "output_type": "error",
     "traceback": [
      "\u001b[0;31m---------------------------------------------------------------------------\u001b[0m",
      "\u001b[0;31mIndexError\u001b[0m                                Traceback (most recent call last)",
      "Cell \u001b[0;32mIn[34], line 7\u001b[0m\n\u001b[1;32m      5\u001b[0m \u001b[38;5;28;01mfor\u001b[39;00m Epoch \u001b[38;5;129;01min\u001b[39;00m tqdm(\u001b[38;5;28mrange\u001b[39m(Epochs)):\n\u001b[1;32m      6\u001b[0m     dataIdxes \u001b[38;5;241m=\u001b[39m np\u001b[38;5;241m.\u001b[39marange(Epoch\u001b[38;5;241m*\u001b[39mBatchDatanum,(Epoch\u001b[38;5;241m+\u001b[39m\u001b[38;5;241m1\u001b[39m)\u001b[38;5;241m*\u001b[39mBatchDatanum,\u001b[38;5;241m1\u001b[39m)\n\u001b[0;32m----> 7\u001b[0m     Inputdata \u001b[38;5;241m=\u001b[39m \u001b[43mx_test\u001b[49m\u001b[38;5;241;43m.\u001b[39;49m\u001b[43mcopy\u001b[49m\u001b[43m(\u001b[49m\u001b[43m)\u001b[49m\u001b[43m[\u001b[49m\u001b[43mdataIdxes\u001b[49m\u001b[43m]\u001b[49m\n\u001b[1;32m      8\u001b[0m     Inputlabel \u001b[38;5;241m=\u001b[39m y_test\u001b[38;5;241m.\u001b[39mcopy()[dataIdxes]\n\u001b[1;32m      9\u001b[0m     cropsBatch \u001b[38;5;241m=\u001b[39m crops\u001b[38;5;241m.\u001b[39mcopy()[dataIdxes]\n",
      "\u001b[0;31mIndexError\u001b[0m: index 20742 is out of bounds for axis 0 with size 20742"
     ]
    }
   ],
   "source": [
    "prss = []\n",
    "gtss = []\n",
    "scoress = []\n",
    "total_true,total_false = 0,0\n",
    "for Epoch in tqdm(range(Epochs)):\n",
    "    dataIdxes = np.arange(Epoch*BatchDatanum,(Epoch+1)*BatchDatanum,1)\n",
    "    Inputdata = x_test.copy()[dataIdxes]\n",
    "    Inputlabel = y_test.copy()[dataIdxes]\n",
    "    cropsBatch = crops.copy()[dataIdxes]\n",
    "    Inputcrops = torch.stack([cropPreprocess(cv2.imread(f'{cropDir}/{cropPath}')) for cropPath in cropsBatch],dim=0)\n",
    "\n",
    "    inputdata = Inputdata.copy().reshape((BatchDatanum, T, 2, 17, 3)).transpose(0, 4, 1, 3, 2)\n",
    "    valid_frame_nums = np.sum(np.sum(np.sum(inputdata, axis=-1), axis=-1) != 0, axis=-1)[...,0]\n",
    "    p_interval = [0.95]\n",
    "\n",
    "    datas = np.empty((len(inputdata),3,64,17,2))#,dtype=float\n",
    "    t_indexs = np.empty((len(inputdata),64))#,dtype=float\n",
    "    for i in range(len(inputdata)):\n",
    "        data,t_index = tools.valid_crop_uniform(inputdata[i], valid_frame_nums[i], p_interval, window_size, thres)\n",
    "        datas[i] = data\n",
    "        t_indexs[i] = t_index\n",
    "    datas = torch.from_numpy(datas).float().to(device)\n",
    "    t_indexs = torch.from_numpy(t_indexs).float().to(device)\n",
    "    Inputcrops = Inputcrops.float().to(device)\n",
    "\n",
    "    with torch.no_grad():\n",
    "        preds = model(datas,t_indexs,Inputcrops)\n",
    "    preds = torch.nn.functional.softmax(preds, dim=0)\n",
    "    scores = torch.max(preds,dim=1).values.cpu()\n",
    "    prs = torch.argmax(preds,dim=1).cpu()\n",
    "    gts = torch.argmax(torch.from_numpy(Inputlabel), dim=1)\n",
    "    true,false = sum(gts==prs).item(),sum(gts!=prs).item()\n",
    "    total_true += true\n",
    "    total_false += false\n",
    "    prss+=prs.tolist()\n",
    "    gtss+=gts.tolist()\n",
    "    scoress+= scores.tolist()"
   ]
  },
  {
   "cell_type": "code",
   "execution_count": null,
   "id": "b88e41da",
   "metadata": {},
   "outputs": [],
   "source": [
    "print(f'acc : {total_true/(total_false+total_true)*100} %')"
   ]
  },
  {
   "cell_type": "code",
   "execution_count": null,
   "id": "883f672f",
   "metadata": {},
   "outputs": [],
   "source": [
    "ground_true = np.array(gtss)\n",
    "predict = np.array(prss)\n",
    "confidence = np.array(scoress)\n",
    "\n",
    "# 定义不同的阈值范围\n",
    "thresholds = np.linspace(0, 1, 50)  # 从0到1的50个不同阈值\n",
    "\n",
    "# 存储准确率和数据数量\n",
    "accuracies = []\n",
    "data_counts = []\n",
    "thresholds_have = []\n",
    "for threshold in thresholds:\n",
    "    mask = confidence >= threshold\n",
    "    accuracy = np.sum(ground_true[mask] == predict[mask]) / np.sum(mask) if np.sum(mask) > 0 else 0\n",
    "    data_count = np.sum(mask)  # 符合阈值的数据数量\n",
    "    if data_count == 0:\n",
    "        continue\n",
    "    accuracies.append(accuracy)\n",
    "    data_counts.append(data_count)\n",
    "    thresholds_have.append(threshold)\n",
    "# 创建图形\n",
    "fig, ax1 = plt.subplots()\n",
    "\n",
    "# 绘制左Y轴的准确率曲线\n",
    "ax1.set_xlabel('Confidence Threshold')\n",
    "ax1.set_ylabel('Accuracy')#, color='tab:blue'\n",
    "ax1.plot(thresholds_have, accuracies, label='Accuracy')#, color='tab:blue'\n",
    "ax1.tick_params(axis='y')#, labelcolor='tab:blue'\n",
    "\n",
    "# 创建右Y轴的数据数量曲线\n",
    "# ax2 = ax1.twinx()\n",
    "# ax2.set_ylabel('Data Count', color='tab:red')\n",
    "# ax2.plot(thresholds_have, data_counts, color='tab:red', label='Data Count')\n",
    "# ax2.tick_params(axis='y', labelcolor='tab:red')\n",
    "\n",
    "# 显示图例和图形\n",
    "fig.tight_layout()\n",
    "# plt.title('Validation Accuracy')\n",
    "plt.show()"
   ]
  },
  {
   "cell_type": "code",
   "execution_count": null,
   "id": "a2fccf35",
   "metadata": {},
   "outputs": [],
   "source": []
  }
 ],
 "metadata": {
  "kernelspec": {
   "display_name": "Python 3 (ipykernel)",
   "language": "python",
   "name": "python3"
  },
  "language_info": {
   "codemirror_mode": {
    "name": "ipython",
    "version": 3
   },
   "file_extension": ".py",
   "mimetype": "text/x-python",
   "name": "python",
   "nbconvert_exporter": "python",
   "pygments_lexer": "ipython3",
   "version": "3.8.10"
  }
 },
 "nbformat": 4,
 "nbformat_minor": 5
}
